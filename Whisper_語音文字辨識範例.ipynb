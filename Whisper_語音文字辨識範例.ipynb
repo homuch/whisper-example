{
  "cells": [
    {
      "cell_type": "markdown",
      "metadata": {
        "id": "view-in-github",
        "colab_type": "text"
      },
      "source": [
        "<a href=\"https://colab.research.google.com/github/homuch/whisper-example/blob/main/Whisper_%E8%AA%9E%E9%9F%B3%E6%96%87%E5%AD%97%E8%BE%A8%E8%AD%98%E7%AF%84%E4%BE%8B.ipynb\" target=\"_parent\"><img src=\"https://colab.research.google.com/assets/colab-badge.svg\" alt=\"Open In Colab\"/></a>"
      ]
    },
    {
      "cell_type": "code",
      "execution_count": null,
      "metadata": {
        "id": "zwFnJsE6vjf8",
        "cellView": "form"
      },
      "outputs": [],
      "source": [
        "# @title 安裝套件\n",
        "%%capture\n",
        "!pip3 install openai-whisper\n",
        "!pip3 install opencc-python-reimplemented\n",
        "import whisper\n",
        "from google.colab import files\n",
        "from opencc import OpenCC"
      ]
    },
    {
      "cell_type": "code",
      "execution_count": null,
      "metadata": {
        "id": "gJr_9dXGpJ05",
        "cellView": "form"
      },
      "outputs": [],
      "source": [
        "# @title 上傳語音檔案（建議 .mp3 或 .wav）\n",
        "uploaded = files.upload()"
      ]
    },
    {
      "cell_type": "code",
      "execution_count": null,
      "metadata": {
        "id": "-gE-Ez1qtyIA",
        "cellView": "form"
      },
      "outputs": [],
      "source": [
        "# @title 載入模型（預設選取 turbo 即可）\n",
        "model_name = \"turbo\" # @param [\"tiny\", \"base\", \"small\", \"turbo\"]\n",
        "whisper_model = whisper.load_model(model_name)"
      ]
    },
    {
      "cell_type": "code",
      "execution_count": null,
      "metadata": {
        "id": "C4HZx7Gndbrh",
        "cellView": "form"
      },
      "outputs": [],
      "source": [
        "# @title 轉換音檔至文字\n",
        "from IPython.display import Javascript\n",
        "display(Javascript('''google.colab.output.setIframeHeight(0, true, {maxHeight: 200})'''))\n",
        "file_name = list(uploaded.keys())[0]\n",
        "result = whisper_model.transcribe(file_name, verbose=True)"
      ]
    },
    {
      "cell_type": "code",
      "source": [
        "# @title 儲存檔案\n",
        "output_file_name = file_name.split(\".\")[0] + \"_transcribed.txt\"\n",
        "output_file_segments_name = file_name.split(\".\")[0] + \"_segments.txt\"\n",
        "with open(output_file_name, \"w\", encoding=\"utf-8\") as f:\n",
        "    f.write(result[\"text\"])\n",
        "with open(output_file_segments_name, \"w\", encoding=\"utf-8\") as f:\n",
        "    f.write(\"\\n\".join([seg[\"text\"] for seg in result[\"segments\"]]))"
      ],
      "metadata": {
        "cellView": "form",
        "id": "jgFoixqAuB4t"
      },
      "execution_count": null,
      "outputs": []
    },
    {
      "cell_type": "code",
      "source": [
        "# @title 轉換至繁體中文\n",
        "cc = OpenCC('s2tw')\n",
        "cc_result = cc.convert(result[\"text\"])\n",
        "cc_result_segments = cc.convert(\"\\n\".join([seg[\"text\"] for seg in result[\"segments\"]]))"
      ],
      "metadata": {
        "cellView": "form",
        "id": "pqVBvqlCp5Sd"
      },
      "execution_count": null,
      "outputs": []
    },
    {
      "cell_type": "code",
      "source": [
        "# @title 儲存繁體中文檔案\n",
        "output_file_name_tw = file_name.split(\".\")[0] + \"_transcribed_tw.txt\"\n",
        "output_file_segments_name_tw = file_name.split(\".\")[0] + \"_segments_tw.txt\"\n",
        "with open(output_file_name_tw, \"w\", encoding=\"utf-8\") as f:\n",
        "    f.write(cc_result)\n",
        "with open(output_file_segments_name_tw, \"w\", encoding=\"utf-8\") as f:\n",
        "    f.write(cc_result_segments)"
      ],
      "metadata": {
        "cellView": "form",
        "id": "DFLt-oZkvrkJ"
      },
      "execution_count": null,
      "outputs": []
    },
    {
      "cell_type": "code",
      "source": [
        "# @title 下載檔案（可按左方播放鍵重新執行此格，下載不同檔案）\n",
        "from google.colab import files\n",
        "download_type = \"分行（繁體）\" # @param [\"純文字\", \"分行\", \"純文字（繁體）\", \"分行（繁體）\"]\n",
        "if download_type == \"純文字\":\n",
        "  files.download(output_file_name)\n",
        "elif download_type == \"分行\":\n",
        "  files.download(output_file_segments_name)\n",
        "elif download_type == \"純文字（繁體）\":\n",
        "  files.download(output_file_name_tw)\n",
        "elif download_type == \"分行（繁體）\":\n",
        "  files.download(output_file_segments_name_tw)"
      ],
      "metadata": {
        "cellView": "form",
        "id": "nzb8tDosv7bm"
      },
      "execution_count": null,
      "outputs": []
    }
  ],
  "metadata": {
    "colab": {
      "provenance": [],
      "gpuType": "T4",
      "include_colab_link": true
    },
    "kernelspec": {
      "display_name": "Python 3",
      "name": "python3"
    },
    "accelerator": "GPU"
  },
  "nbformat": 4,
  "nbformat_minor": 0
}